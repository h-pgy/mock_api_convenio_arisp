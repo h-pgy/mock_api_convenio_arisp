{
 "cells": [
  {
   "cell_type": "code",
   "execution_count": 1,
   "id": "66e101c9",
   "metadata": {},
   "outputs": [],
   "source": [
    "from source.models import Model\n",
    "from source import queries"
   ]
  },
  {
   "cell_type": "code",
   "execution_count": 2,
   "id": "a0661d4c",
   "metadata": {},
   "outputs": [],
   "source": [
    "data = Model()"
   ]
  },
  {
   "cell_type": "code",
   "execution_count": 3,
   "id": "2171a1e2",
   "metadata": {},
   "outputs": [
    {
     "data": {
      "text/plain": [
       "{'matricula': '16.012',\n",
       " 'cartorio_num': '6',\n",
       " 'cnm': '000001.0.0000029-09',\n",
       " 'endereco': 'Rua Sítio Cirino, 100, Vila Da Paz, cidade de São Paulo - SP, CEP: 39364530',\n",
       " 'proprietario': {'nome': 'Sofia Macedo',\n",
       "  'cpf': '027.007.011-04',\n",
       "  'rg': '15.024.028-6',\n",
       "  'profissao': 'Apontador de mão-de-obra',\n",
       "  'endereco': 'Rua Trevo da Luz, 104, Coqueiros, cidade de São Paulo - SP, CEP: 36488047',\n",
       "  'estado_civil': 'casado'},\n",
       " 'data_escritura': '19/05/1977',\n",
       " 'area_terreno': 4464,\n",
       " 'area_construida': 713.0,\n",
       " 'ano_construcao': 1919,\n",
       " 'tipo_imovel': 'Rural',\n",
       " 'matricula_pdf_file': 'static/matriculas/10.012.pdf',\n",
       " 'id': 3}"
      ]
     },
     "execution_count": 3,
     "metadata": {},
     "output_type": "execute_result"
    }
   ],
   "source": [
    "queries.get_all_matriculas(data)[2]"
   ]
  },
  {
   "cell_type": "code",
   "execution_count": null,
   "id": "c0bf6c87",
   "metadata": {},
   "outputs": [],
   "source": []
  }
 ],
 "metadata": {
  "kernelspec": {
   "display_name": "venv",
   "language": "python",
   "name": "python3"
  },
  "language_info": {
   "codemirror_mode": {
    "name": "ipython",
    "version": 3
   },
   "file_extension": ".py",
   "mimetype": "text/x-python",
   "name": "python",
   "nbconvert_exporter": "python",
   "pygments_lexer": "ipython3",
   "version": "3.12.3"
  }
 },
 "nbformat": 4,
 "nbformat_minor": 5
}
