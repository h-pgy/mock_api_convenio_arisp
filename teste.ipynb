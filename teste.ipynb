{
 "cells": [
  {
   "cell_type": "code",
   "execution_count": 1,
   "id": "66e101c9",
   "metadata": {},
   "outputs": [],
   "source": [
    "from source.models import Model\n",
    "from source import queries"
   ]
  },
  {
   "cell_type": "code",
   "execution_count": 2,
   "id": "a0661d4c",
   "metadata": {},
   "outputs": [],
   "source": [
    "data = Model()"
   ]
  },
  {
   "cell_type": "code",
   "execution_count": 3,
   "id": "2171a1e2",
   "metadata": {},
   "outputs": [
    {
     "data": {
      "text/plain": [
       "{'matricula': '17.009',\n",
       " 'cartorio_num': '10',\n",
       " 'cnm': '000001.5.0000011-13',\n",
       " 'endereco': 'Esplanada de da Conceição, 752, Candelaria, cidade de São Paulo - SP, CEP: 30239830',\n",
       " 'proprietario': {'nome': 'Camila Rios',\n",
       "  'cpf': '007.006.003-09',\n",
       "  'rg': '04.011.004-1',\n",
       "  'profissao': 'Recreador',\n",
       "  'endereco': 'Conjunto Barbosa, 774, Horto, cidade de São Paulo - SP, CEP: 75668-369',\n",
       "  'estado_civil': 'solteiro'},\n",
       " 'data_escritura': '26/02/2005',\n",
       " 'area_terreno': 504,\n",
       " 'area_construida': 214.5,\n",
       " 'ano_construcao': 1939,\n",
       " 'tipo_imovel': 'Urbano',\n",
       " 'matricula_pdf_file': '../mock_data/static/matriculas/07.018.pdf',\n",
       " 'id': 3}"
      ]
     },
     "execution_count": 3,
     "metadata": {},
     "output_type": "execute_result"
    }
   ],
   "source": [
    "queries.get_all_matriculas(data)[2]"
   ]
  },
  {
   "cell_type": "code",
   "execution_count": null,
   "id": "c0bf6c87",
   "metadata": {},
   "outputs": [],
   "source": []
  }
 ],
 "metadata": {
  "kernelspec": {
   "display_name": "venv",
   "language": "python",
   "name": "python3"
  },
  "language_info": {
   "codemirror_mode": {
    "name": "ipython",
    "version": 3
   },
   "file_extension": ".py",
   "mimetype": "text/x-python",
   "name": "python",
   "nbconvert_exporter": "python",
   "pygments_lexer": "ipython3",
   "version": "3.12.3"
  }
 },
 "nbformat": 4,
 "nbformat_minor": 5
}
