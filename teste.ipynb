{
 "cells": [
  {
   "cell_type": "code",
   "execution_count": 1,
   "id": "66e101c9",
   "metadata": {},
   "outputs": [],
   "source": [
    "from source.models import Model\n",
    "from source import queries"
   ]
  },
  {
   "cell_type": "code",
   "execution_count": 2,
   "id": "a0661d4c",
   "metadata": {},
   "outputs": [],
   "source": [
    "data = Model()"
   ]
  },
  {
   "cell_type": "code",
   "execution_count": 3,
   "id": "2171a1e2",
   "metadata": {},
   "outputs": [
    {
     "data": {
      "text/plain": [
       "{'matricula': '11.015',\n",
       " 'cartorio_num': '5',\n",
       " 'cnm': '000054.0.0000035-17',\n",
       " 'endereco': 'Rua Distrito Zoe Vasconcelos, 740, Mariquinhas, cidade de São Paulo - SP, CEP: 07527-387',\n",
       " 'proprietario': {'nome': 'Srta. Mariane Pacheco',\n",
       "  'cpf': '021.010.030-16',\n",
       "  'rg': '13.008.000-5',\n",
       "  'profissao': 'Perito judicial',\n",
       "  'endereco': 'Rua Loteamento de da Rosa, 729, Vila São Dimas, cidade de São Paulo - SP, CEP: 25480360',\n",
       "  'estado_civil': 'casado'},\n",
       " 'data_escritura': '22/06/1983',\n",
       " 'area_terreno': 966,\n",
       " 'area_construida': 612.0,\n",
       " 'ano_construcao': 1943,\n",
       " 'tipo_imovel': 'Urbano',\n",
       " 'matricula_pdf_file': 'static/matriculas/2.pdf',\n",
       " 'matricula_pdf_id': 2,\n",
       " 'id': 4}"
      ]
     },
     "execution_count": 3,
     "metadata": {},
     "output_type": "execute_result"
    }
   ],
   "source": [
    "m = queries.get_all_matriculas(data)[3]\n",
    "m"
   ]
  },
  {
   "cell_type": "code",
   "execution_count": 4,
   "id": "7cdb8b8f",
   "metadata": {},
   "outputs": [
    {
     "data": {
      "text/plain": [
       "{'matricula': '11.015',\n",
       " 'cartorio_num': '5',\n",
       " 'cnm': '000054.0.0000035-17',\n",
       " 'endereco': 'Rua Distrito Zoe Vasconcelos, 740, Mariquinhas, cidade de São Paulo - SP, CEP: 07527-387',\n",
       " 'proprietario': {'nome': 'Srta. Mariane Pacheco',\n",
       "  'cpf': '021.010.030-16',\n",
       "  'rg': '13.008.000-5',\n",
       "  'profissao': 'Perito judicial',\n",
       "  'endereco': 'Rua Loteamento de da Rosa, 729, Vila São Dimas, cidade de São Paulo - SP, CEP: 25480360',\n",
       "  'estado_civil': 'casado'},\n",
       " 'data_escritura': '22/06/1983',\n",
       " 'area_terreno': 966,\n",
       " 'area_construida': 612.0,\n",
       " 'ano_construcao': 1943,\n",
       " 'tipo_imovel': 'Urbano',\n",
       " 'matricula_pdf_file': 'static/matriculas/2.pdf',\n",
       " 'matricula_pdf_id': 2,\n",
       " 'id': 4}"
      ]
     },
     "execution_count": 4,
     "metadata": {},
     "output_type": "execute_result"
    }
   ],
   "source": [
    "queries.get_matricula_data_by_matricula(data, m['cartorio_num'], m['matricula'])"
   ]
  },
  {
   "cell_type": "code",
   "execution_count": 5,
   "id": "c0bf6c87",
   "metadata": {},
   "outputs": [
    {
     "data": {
      "text/plain": [
       "[{'id': 4,\n",
       "  'ccirs': [],\n",
       "  'cartorio_num': '5',\n",
       "  'matricula': '11.015',\n",
       "  'cnm': '000054.0.0000035-17'}]"
      ]
     },
     "execution_count": 5,
     "metadata": {},
     "output_type": "execute_result"
    }
   ],
   "source": [
    "queries.get_ccirs_by_cnm(data, m['cnm'])"
   ]
  },
  {
   "cell_type": "code",
   "execution_count": 6,
   "id": "d9816212",
   "metadata": {},
   "outputs": [
    {
     "data": {
      "text/plain": [
       "[{'id': 4,\n",
       "  'ccirs': [],\n",
       "  'cartorio_num': '5',\n",
       "  'matricula': '11.015',\n",
       "  'cnm': '000054.0.0000035-17'}]"
      ]
     },
     "execution_count": 6,
     "metadata": {},
     "output_type": "execute_result"
    }
   ],
   "source": [
    "queries.get_ccirs_by_matricula(data, m['cartorio_num'], m['matricula'])"
   ]
  },
  {
   "cell_type": "code",
   "execution_count": 7,
   "id": "fcf9b04b",
   "metadata": {},
   "outputs": [
    {
     "data": {
      "text/plain": [
       "[{'id': 4,\n",
       "  'sqls': ['015.020.0016-16', '002.026.0017-12', '006.010.0037-06'],\n",
       "  'cartorio_num': '5',\n",
       "  'matricula': '11.015',\n",
       "  'cnm': '000054.0.0000035-17'}]"
      ]
     },
     "execution_count": 7,
     "metadata": {},
     "output_type": "execute_result"
    }
   ],
   "source": [
    "queries.get_sqls_by_cnm(data, m['cnm'])"
   ]
  },
  {
   "cell_type": "code",
   "execution_count": 8,
   "id": "6ddd3ada",
   "metadata": {},
   "outputs": [
    {
     "data": {
      "text/plain": [
       "[{'id': 4,\n",
       "  'sqls': ['015.020.0016-16', '002.026.0017-12', '006.010.0037-06'],\n",
       "  'cartorio_num': '5',\n",
       "  'matricula': '11.015',\n",
       "  'cnm': '000054.0.0000035-17'}]"
      ]
     },
     "execution_count": 8,
     "metadata": {},
     "output_type": "execute_result"
    }
   ],
   "source": [
    "queries.get_sqls_by_matricula(data, m['cartorio_num'], m['matricula'])"
   ]
  },
  {
   "cell_type": "code",
   "execution_count": null,
   "id": "936e1512",
   "metadata": {},
   "outputs": [],
   "source": []
  }
 ],
 "metadata": {
  "kernelspec": {
   "display_name": "venv",
   "language": "python",
   "name": "python3"
  },
  "language_info": {
   "codemirror_mode": {
    "name": "ipython",
    "version": 3
   },
   "file_extension": ".py",
   "mimetype": "text/x-python",
   "name": "python",
   "nbconvert_exporter": "python",
   "pygments_lexer": "ipython3",
   "version": "3.12.3"
  }
 },
 "nbformat": 4,
 "nbformat_minor": 5
}
