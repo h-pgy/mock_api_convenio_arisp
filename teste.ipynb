{
 "cells": [
  {
   "cell_type": "code",
   "execution_count": 1,
   "id": "66e101c9",
   "metadata": {},
   "outputs": [],
   "source": [
    "from source.models import Model\n",
    "from source import queries"
   ]
  },
  {
   "cell_type": "code",
   "execution_count": 2,
   "id": "a0661d4c",
   "metadata": {},
   "outputs": [],
   "source": [
    "data = Model()"
   ]
  },
  {
   "cell_type": "code",
   "execution_count": 3,
   "id": "2171a1e2",
   "metadata": {},
   "outputs": [
    {
     "data": {
      "text/plain": [
       "{'matricula': '06.026',\n",
       " 'cartorio_num': '6',\n",
       " 'cnm': '000014.9.0000011-11',\n",
       " 'endereco': 'Rua Ladeira Garcia, 764, Coqueiros, cidade de São Paulo - SP, CEP: 98537525',\n",
       " 'proprietario': {'nome': 'Rebeca Pastor',\n",
       "  'cpf': '022.026.017-14',\n",
       "  'rg': '09.002.004-0',\n",
       "  'profissao': 'Torreiro/Torrista',\n",
       "  'endereco': 'Rua Morro de Barros, 806, Inconfidência, cidade de São Paulo - SP, CEP: 27296458',\n",
       "  'estado_civil': 'casado'},\n",
       " 'data_escritura': '11/06/1931',\n",
       " 'area_terreno': 747,\n",
       " 'area_construida': 590.0,\n",
       " 'ano_construcao': 1999,\n",
       " 'tipo_imovel': 'Urbano',\n",
       " 'matricula_pdf_file': 'static/matriculas/1.pdf',\n",
       " 'matricula_pdf_id': 1,\n",
       " 'id': 4}"
      ]
     },
     "execution_count": 3,
     "metadata": {},
     "output_type": "execute_result"
    }
   ],
   "source": [
    "m = queries.get_all_matriculas(data)[3]\n",
    "m"
   ]
  },
  {
   "cell_type": "code",
   "execution_count": 4,
   "id": "7cdb8b8f",
   "metadata": {},
   "outputs": [
    {
     "data": {
      "text/plain": [
       "{'matricula': '06.026',\n",
       " 'cartorio_num': '6',\n",
       " 'cnm': '000014.9.0000011-11',\n",
       " 'endereco': 'Rua Ladeira Garcia, 764, Coqueiros, cidade de São Paulo - SP, CEP: 98537525',\n",
       " 'proprietario': {'nome': 'Rebeca Pastor',\n",
       "  'cpf': '022.026.017-14',\n",
       "  'rg': '09.002.004-0',\n",
       "  'profissao': 'Torreiro/Torrista',\n",
       "  'endereco': 'Rua Morro de Barros, 806, Inconfidência, cidade de São Paulo - SP, CEP: 27296458',\n",
       "  'estado_civil': 'casado'},\n",
       " 'data_escritura': '11/06/1931',\n",
       " 'area_terreno': 747,\n",
       " 'area_construida': 590.0,\n",
       " 'ano_construcao': 1999,\n",
       " 'tipo_imovel': 'Urbano',\n",
       " 'matricula_pdf_file': 'static/matriculas/1.pdf',\n",
       " 'matricula_pdf_id': 1,\n",
       " 'id': 4}"
      ]
     },
     "execution_count": 4,
     "metadata": {},
     "output_type": "execute_result"
    }
   ],
   "source": [
    "queries.get_matricula_data_by_matricula(data, m['cartorio_num'], m['matricula'])"
   ]
  },
  {
   "cell_type": "code",
   "execution_count": 5,
   "id": "c0bf6c87",
   "metadata": {},
   "outputs": [
    {
     "data": {
      "text/plain": [
       "[{'id': 4,\n",
       "  'ccirs': [],\n",
       "  'cartorio_num': '6',\n",
       "  'matricula': '06.026',\n",
       "  'cnm': '000014.9.0000011-11'}]"
      ]
     },
     "execution_count": 5,
     "metadata": {},
     "output_type": "execute_result"
    }
   ],
   "source": [
    "queries.get_ccirs_by_cnm(data, m['cnm'])"
   ]
  },
  {
   "cell_type": "code",
   "execution_count": 6,
   "id": "d9816212",
   "metadata": {},
   "outputs": [
    {
     "data": {
      "text/plain": [
       "[{'id': 4,\n",
       "  'ccirs': [],\n",
       "  'cartorio_num': '6',\n",
       "  'matricula': '06.026',\n",
       "  'cnm': '000014.9.0000011-11'}]"
      ]
     },
     "execution_count": 6,
     "metadata": {},
     "output_type": "execute_result"
    }
   ],
   "source": [
    "queries.get_ccirs_by_matricula(data, m['cartorio_num'], m['matricula'])"
   ]
  },
  {
   "cell_type": "code",
   "execution_count": 7,
   "id": "fcf9b04b",
   "metadata": {},
   "outputs": [
    {
     "data": {
      "text/plain": [
       "[{'id': 4,\n",
       "  'sqls': ['030.010.0013-07', '007.027.0029-14'],\n",
       "  'cartorio_num': '6',\n",
       "  'matricula': '06.026',\n",
       "  'cnm': '000014.9.0000011-11'}]"
      ]
     },
     "execution_count": 7,
     "metadata": {},
     "output_type": "execute_result"
    }
   ],
   "source": [
    "queries.get_sqls_by_cnm(data, m['cnm'])"
   ]
  },
  {
   "cell_type": "code",
   "execution_count": 8,
   "id": "6ddd3ada",
   "metadata": {},
   "outputs": [
    {
     "data": {
      "text/plain": [
       "[{'id': 4,\n",
       "  'sqls': ['030.010.0013-07', '007.027.0029-14'],\n",
       "  'cartorio_num': '6',\n",
       "  'matricula': '06.026',\n",
       "  'cnm': '000014.9.0000011-11'}]"
      ]
     },
     "execution_count": 8,
     "metadata": {},
     "output_type": "execute_result"
    }
   ],
   "source": [
    "queries.get_sqls_by_matricula(data, m['cartorio_num'], m['matricula'])"
   ]
  },
  {
   "cell_type": "code",
   "execution_count": 9,
   "id": "936e1512",
   "metadata": {},
   "outputs": [
    {
     "data": {
      "text/plain": [
       "[{'id': 4,\n",
       "  'ocr': ['São Paulo, 11 de June de 1931. 6º Registro de Imóveis, UM Urbano, sito à Rua Distrito Rocha, 202, Palmares, cidade de São Paulo - SP, CEP: 50455-737, , com área total de 747 m², medindo 9 metros de largura por 83 metros de comprimento, confinando de um lado com o lote 16 de outro lado com o lote 59, e nos fundos com o lote 103, dotada de uma edificação com 590.0 m² de área construída, construída no ano de 1999, cadastro sob o número de contribuinte 030.010.0013-07 e registrado neste Cartório de Registro de Imóveis de número 6, da Comarca de São Paulo, sob o número 06.026. Cadastro CNM: 000014.9.0000011-11.PROPRIETÁRIO: REBECA PASTOR, CPF 022.026.017-14, RG 09.002.004-0, Torreiro/Torrista e seu cônjuge Srta. Eloá Borges, CPF 024.010.016-06, RG 15.028.026-4, profissão Nutrologista, residente e domiciliado em Rua Morro de Barros, 806, Inconfidência, cidade de São Paulo - SP, CEP: 27296458. Registro efetuado em 11 de June de 1931.\\n\\nRegistro Nº 16.004/006 - São Paulo, 07 de March de 2022\\nPela escritura pública lavrada em 11 de June de 1931, no Livro 4, folhas 36, do 6, o REBECA PASTOR, CPF 022.026.017-14, RG 09.002.004-0, Torreiro/Torrista e seu cônjuge Srta. Eloá Borges, CPF 024.010.016-06, RG 15.028.026-4, profissão Nutrologista, residente e domiciliado em Rua Morro de Barros, 806, Inconfidência, cidade de São Paulo - SP, CEP: 27296458, **vende** a LUAN BORGES, CPF',\n",
       "   '019.008.025-06, RG 15.005.023-2, Químico farmacêutico e seu cônjuge Sophia Ribeiro, CPF 013.023.007-16, RG 13.015.024-4, profissão Economista, residente e domiciliado em Rua Colônia Gonçalves, 616, Jardim Dos Comerciarios, cidade de São Paulo - SP, CEP: 80254805, o imóvel situado à Rua Estação de Nunes, 222, Andiroba, cidade de São Paulo - SP, CEP: 82982789, pelo valor de R$ 261,492.00, pagos nesta data.\\nA aquisição foi feita com recursos próprios do(a) comprador(a), conforme declaração. Registrado sem ônus ou gravames.\\nO Oficial\\nBenicio Pereira\\nRegistro Nº 06.027/002 - São Paulo, 31 de May de 1932\\nPela escritura pública lavrada em 11 de June de 1931, no Livro 5, folhas 131, do 6, o LUAN BORGES, CPF 019.008.025-06, RG 15.005.023-2, Químico farmacêutico e seu cônjuge Sophia Ribeiro, CPF 013.023.007-16, RG 13.015.024-4, profissão Economista, residente e domiciliado em Rua Colônia Gonçalves, 616, Jardim Dos Comerciarios, cidade de São Paulo - SP, CEP: 80254805, **vende** a FRANCISCO MORAES, CPF 018.021.023-14, RG 10.030.028-8, Coveiro/Sepultador e seu cônjuge Noah Cassiano, CPF 027.020.005-09, RG 13.003.008-10, profissão Surfista, residente e domiciliado em Rua Feira da Conceição, 690, Vila Independencia 1ª Seção, cidade de São Paulo - SP, CEP: 40703-659, o imóvel situado à Rua Estrada Ana Cavalcante, 580, Laranjeiras, cidade de São Paulo - SP, CEP: 58630802, pelo valor de R$',\n",
       "   '203,364.00, pagos nesta data.\\nA aquisição foi feita com recursos próprios do(a) comprador(a), conforme declaração. Registrado sem ônus ou gravames.\\nO Oficial\\nValentim da Rosa\\nRegistro Nº 00.007/014 - São Paulo, 15 de June de 2018\\nPela escritura pública lavrada em 11 de June de 1931, no Livro 3, folhas 101, do 6, o FRANCISCO MORAES, CPF 018.021.023-14, RG 10.030.028-8, Coveiro/Sepultador e seu cônjuge Noah Cassiano, CPF 027.020.005-09, RG 13.003.008-10, profissão Surfista, residente e domiciliado em Rua Feira da Conceição, 690, Vila Independencia 1ª Seção, cidade de São Paulo - SP, CEP: 40703-659, **vende** a CLARA MORAES, CPF 001.024.023-18, RG 12.019.024-8, Prensista e seu cônjuge Dr. Renan da Rocha, CPF 028.017.027-03, RG 11.027.025-8, profissão Flanelinha, residente e domiciliado em Rua Loteamento Maria Flor Montenegro, 599, Vila Madre Gertrudes 3ª Seção, cidade de São Paulo - SP, CEP: 35202813, o imóvel situado à Rua Passarela Freitas, 705, Santa Rita, cidade de São Paulo - SP, CEP: 48007376, pelo valor de R$ 442,792.00, pagos nesta data.\\nA aquisição foi feita com recursos próprios do(a) comprador(a), conforme declaração. Registrado sem ônus ou gravames.\\nO Oficial\\nMelissa Campos\\nRegistro Nº 16.019/030 - São Paulo, 06 de January de 1991\\nPela escritura pública lavrada em 11 de June de 1931, no Livro 2, folhas 16, do 6, o CLARA MORAES, CPF 001.024.023-18, RG 12.019.024-8,',\n",
       "   'Prensista e seu cônjuge Dr. Renan da Rocha, CPF 028.017.027-03, RG 11.027.025-8, profissão Flanelinha, residente e domiciliado em Rua Loteamento Maria Flor Montenegro, 599, Vila Madre Gertrudes 3ª Seção, cidade de São Paulo - SP, CEP: 35202813, **vende** a ISABELLA LEÃO, CPF 028.004.013-03, RG 01.024.030-9, Radiooperador de vôo e seu cônjuge Juan Rodrigues, CPF 019.029.022-17, RG 15.014.012-7, profissão Cumim, residente e domiciliado em Rua Rodovia Maria Clara da Luz, 52, Novo Glória, cidade de São Paulo - SP, CEP: 45104128, o imóvel situado à Rua Passarela de Pereira, 854, Canaa, cidade de São Paulo - SP, CEP: 37103101, pelo valor de R$ 423,207.00, pagos nesta data.\\nA aquisição foi feita com recursos próprios do(a) comprador(a), conforme declaração. Registrado sem ônus ou gravames.\\nO Oficial\\nAsafe Cavalcanti\\nRegistro Nº 07.014/019 - São Paulo, 28 de October de 2000\\nPela escritura pública lavrada em 11 de June de 1931, no Livro 1, folhas 146, do 6, o ISABELLA LEÃO, CPF 028.004.013-03, RG 01.024.030-9, Radiooperador de vôo e seu cônjuge Juan Rodrigues, CPF 019.029.022-17, RG 15.014.012-7, profissão Cumim, residente e domiciliado em Rua Rodovia Maria Clara da Luz, 52, Novo Glória, cidade de São Paulo - SP, CEP: 45104128, **vende** a PIETRA DA CUNHA, CPF 023.001.024-05, RG 00.030.021-3, Cameraman, residente e domiciliado em Rua Pátio de Casa Grande, 348, Ipe, cidade de São Paulo',\n",
       "   '- SP, CEP: 33713-601, o imóvel situado à Rua Núcleo de Azevedo, 653, Indaiá, cidade de São Paulo - SP, CEP: 25373915, pelo valor de R$ 955,872.00, pagos nesta data.\\nA aquisição foi feita com recursos próprios do(a) comprador(a), conforme declaração. Registrado sem ônus ou gravames.\\nO Oficial\\nAna Lívia Rocha\\nRegistro Nº 10.002/003 - São Paulo, 19 de January de 1959\\nPela escritura pública lavrada em 11 de June de 1931, no Livro 3, folhas 38, do 6, o PIETRA DA CUNHA, CPF 023.001.024-05, RG 00.030.021-3, Cameraman, residente e domiciliado em Rua Pátio de Casa Grande, 348, Ipe, cidade de São Paulo - SP, CEP: 33713-601, **vende** a ALICE COSTELA, CPF 023.019.028-16, RG 02.007.007-5, Promotor de vendas e seu cônjuge Amanda Silva, CPF 009.009.008-04, RG 14.019.022-0, profissão Sushiman, residente e domiciliado em Rua Ladeira Clara Porto, 880, Etelvina Carneiro, cidade de São Paulo - SP, CEP: 87580-729, o imóvel situado à Rua Avenida de Camargo, 482, Ademar Maldonado, cidade de São Paulo - SP, CEP: 64601547, pelo valor de R$ 649,107.00, pagos nesta data.\\nA aquisição foi feita com recursos próprios do(a) comprador(a), conforme declaração. Registrado sem ônus ou gravames.\\nO Oficial\\nCauê Ramos\\nRegistro Nº 08.028/011 - São Paulo, 31 de December de 1939\\nPela escritura pública lavrada em 11 de June de 1931, no Livro 3, folhas 25, do 6, o ALICE COSTELA, CPF 023.019.028-16, RG 02.007.007-5,',\n",
       "   'Promotor de vendas e seu cônjuge Amanda Silva, CPF 009.009.008-04, RG 14.019.022-0, profissão Sushiman, residente e domiciliado em Rua Ladeira Clara Porto, 880, Etelvina Carneiro, cidade de São Paulo - SP, CEP: 87580-729, **vende** a MARIANA SIQUEIRA, CPF 020.012.011-10, RG 06.030.015-0, Coloproctologista, residente e domiciliado em Rua Lago Caldeira, 895, Biquinhas, cidade de São Paulo - SP, CEP: 49983847, o imóvel situado à Rua Loteamento de Farias, 253, Vila Atila De Paiva, cidade de São Paulo - SP, CEP: 09084-262, pelo valor de R$ 876,197.00, pagos nesta data.\\nA aquisição foi feita com recursos próprios do(a) comprador(a), conforme declaração. Registrado sem ônus ou gravames.\\nO Oficial\\nPedro Miguel Farias\\nRegistro Nº 13.009/021 - São Paulo, 24 de February de 1990\\nPela escritura pública lavrada em 11 de June de 1931, no Livro 4, folhas 96, do 6, o MARIANA SIQUEIRA, CPF 020.012.011-10, RG 06.030.015-0, Coloproctologista, residente e domiciliado em Rua Lago Caldeira, 895, Biquinhas, cidade de São Paulo - SP, CEP: 49983847, **vende** a RAQUEL ARAÚJO, CPF 021.022.021-01, RG 05.023.009-2, Filósofo e seu cônjuge Pietra Porto, CPF 017.011.000-14, RG 09.029.007-8, profissão Percursionista, residente e domiciliado em Rua Via Martins, 855, São Geraldo, cidade de São Paulo - SP, CEP: 11159-286, o imóvel situado à Rua Praça Pietra Melo, 927, Varzea Da Palma, cidade de São Paulo - SP,',\n",
       "   'CEP: 06530961, pelo valor de R$ 345,168.00, pagos nesta data.\\nA aquisição foi feita com recursos próprios do(a) comprador(a), conforme declaração. Registrado sem ônus ou gravames.\\nO Oficial\\nIsabel Cunha\\nRegistro Nº 12.017/022 - São Paulo, 17 de April de 1967\\nPela escritura pública lavrada em 11 de June de 1931, no Livro 5, folhas 100, do 6, o RAQUEL ARAÚJO, CPF 021.022.021-01, RG 05.023.009-2, Filósofo e seu cônjuge Pietra Porto, CPF 017.011.000-14, RG 09.029.007-8, profissão Percursionista, residente e domiciliado em Rua Via Martins, 855, São Geraldo, cidade de São Paulo - SP, CEP: 11159-286, **vende** a RODRIGO RODRIGUES, CPF 004.009.005-07, RG 08.021.021-0, Profissional de áudio e seu cônjuge Heloisa Casa Grande, CPF 001.000.015-05, RG 14.009.004-6, profissão Plastimodelista, residente e domiciliado em Rua Vale Silva, 258, Jardim Alvorada, cidade de São Paulo - SP, CEP: 33508079, o imóvel situado à Rua Viela Bruno Rios, 68, Coração De Jesus, cidade de São Paulo - SP, CEP: 55953677, pelo valor de R$ 870,364.00, pagos nesta data.\\nA aquisição foi feita com recursos próprios do(a) comprador(a), conforme declaração. Registrado sem ônus ou gravames.\\nO Oficial\\nBruno Cunha\\nRegistro Nº 20.024/006 - São Paulo, 05 de January de 1948\\nPela escritura pública lavrada em 11 de June de 1931, no Livro 5, folhas 38, do 6, o RODRIGO RODRIGUES, CPF 004.009.005-07, RG 08.021.021-0, Profissional',\n",
       "   'de áudio e seu cônjuge Heloisa Casa Grande, CPF 001.000.015-05, RG 14.009.004-6, profissão Plastimodelista, residente e domiciliado em Rua Vale Silva, 258, Jardim Alvorada, cidade de São Paulo - SP, CEP: 33508079, **vende** a SR. MATHEUS DA PAZ, CPF 021.019.006-11, RG 09.016.017-7, Perfusionista, residente e domiciliado em Rua Via Esther da Rocha, 927, Acaiaca, cidade de São Paulo - SP, CEP: 92872-113, o imóvel situado à Rua Vale Marcelo Machado, 24, Bacurau, cidade de São Paulo - SP, CEP: 40178-125, pelo valor de R$ 290,138.00, pagos nesta data.\\nA aquisição foi feita com recursos próprios do(a) comprador(a), conforme declaração. Registrado sem ônus ou gravames.\\nO Oficial\\nBrayan Albuquerque\\nRegistro Nº 03.014/022 - São Paulo, 30 de May de 1971\\nPela escritura pública lavrada em 11 de June de 1931, no Livro 1, folhas 15, do 6, o SR. MATHEUS DA PAZ, CPF 021.019.006-11, RG 09.016.017-7, Perfusionista, residente e domiciliado em Rua Via Esther da Rocha, 927, Acaiaca, cidade de São Paulo - SP, CEP: 92872-113, **vende** a FELIPE DA CUNHA, CPF 026.003.023-10, RG 18.016.010-6, Restaurador, residente e domiciliado em Rua Viaduto Cirino, 814, Renascença, cidade de São Paulo - SP, CEP: 87370-388, o imóvel situado à Rua Viaduto de da Costa, 160, Pousada Santo Antonio, cidade de São Paulo - SP, CEP: 53015992, pelo valor de R$ 432,575.00, pagos nesta data.\\nA aquisição foi feita com recursos',\n",
       "   'próprios do(a) comprador(a), conforme declaração. Registrado sem ônus ou gravames.\\nO Oficial\\nSrta. Ana Sophia Andrade\\nRegistro Nº 03.011/007 - São Paulo, 26 de January de 1958\\nPela escritura pública lavrada em 11 de June de 1931, no Livro 4, folhas 143, do 6, o FELIPE DA CUNHA, CPF 026.003.023-10, RG 18.016.010-6, Restaurador, residente e domiciliado em Rua Viaduto Cirino, 814, Renascença, cidade de São Paulo - SP, CEP: 87370-388, **vende** a BEATRIZ CAVALCANTE, CPF 029.010.028-18, RG 13.003.028-1, Obstetra e seu cônjuge Thomas Gomes, CPF 005.010.027-08, RG 18.030.009-3, profissão Técnico em desporto, residente e domiciliado em Rua Área de da Conceição, 68, Morro Dos Macacos, cidade de São Paulo - SP, CEP: 19938943, o imóvel situado à Rua Morro Maria Liz Mendes, 121, Bela Vitoria, cidade de São Paulo - SP, CEP: 49969658, pelo valor de R$ 639,069.00, pagos nesta data.\\nA aquisição foi feita com recursos próprios do(a) comprador(a), conforme declaração. Registrado sem ônus ou gravames.\\nO Oficial\\nIsabelly Moreira'],\n",
       "  'num_paginas': 9,\n",
       "  'matricula': '06.026',\n",
       "  'cartorio_num': '6',\n",
       "  'cnm': '000014.9.0000011-11'}]"
      ]
     },
     "execution_count": 9,
     "metadata": {},
     "output_type": "execute_result"
    }
   ],
   "source": [
    "queries.get_pages_by_matricula(data, m['cartorio_num'], m['matricula'])"
   ]
  },
  {
   "cell_type": "code",
   "execution_count": 10,
   "id": "7a8b0645",
   "metadata": {},
   "outputs": [
    {
     "data": {
      "text/plain": [
       "[{'id': 4,\n",
       "  'ocr': ['São Paulo, 11 de June de 1931. 6º Registro de Imóveis, UM Urbano, sito à Rua Distrito Rocha, 202, Palmares, cidade de São Paulo - SP, CEP: 50455-737, , com área total de 747 m², medindo 9 metros de largura por 83 metros de comprimento, confinando de um lado com o lote 16 de outro lado com o lote 59, e nos fundos com o lote 103, dotada de uma edificação com 590.0 m² de área construída, construída no ano de 1999, cadastro sob o número de contribuinte 030.010.0013-07 e registrado neste Cartório de Registro de Imóveis de número 6, da Comarca de São Paulo, sob o número 06.026. Cadastro CNM: 000014.9.0000011-11.PROPRIETÁRIO: REBECA PASTOR, CPF 022.026.017-14, RG 09.002.004-0, Torreiro/Torrista e seu cônjuge Srta. Eloá Borges, CPF 024.010.016-06, RG 15.028.026-4, profissão Nutrologista, residente e domiciliado em Rua Morro de Barros, 806, Inconfidência, cidade de São Paulo - SP, CEP: 27296458. Registro efetuado em 11 de June de 1931.\\n\\nRegistro Nº 16.004/006 - São Paulo, 07 de March de 2022\\nPela escritura pública lavrada em 11 de June de 1931, no Livro 4, folhas 36, do 6, o REBECA PASTOR, CPF 022.026.017-14, RG 09.002.004-0, Torreiro/Torrista e seu cônjuge Srta. Eloá Borges, CPF 024.010.016-06, RG 15.028.026-4, profissão Nutrologista, residente e domiciliado em Rua Morro de Barros, 806, Inconfidência, cidade de São Paulo - SP, CEP: 27296458, **vende** a LUAN BORGES, CPF',\n",
       "   '019.008.025-06, RG 15.005.023-2, Químico farmacêutico e seu cônjuge Sophia Ribeiro, CPF 013.023.007-16, RG 13.015.024-4, profissão Economista, residente e domiciliado em Rua Colônia Gonçalves, 616, Jardim Dos Comerciarios, cidade de São Paulo - SP, CEP: 80254805, o imóvel situado à Rua Estação de Nunes, 222, Andiroba, cidade de São Paulo - SP, CEP: 82982789, pelo valor de R$ 261,492.00, pagos nesta data.\\nA aquisição foi feita com recursos próprios do(a) comprador(a), conforme declaração. Registrado sem ônus ou gravames.\\nO Oficial\\nBenicio Pereira\\nRegistro Nº 06.027/002 - São Paulo, 31 de May de 1932\\nPela escritura pública lavrada em 11 de June de 1931, no Livro 5, folhas 131, do 6, o LUAN BORGES, CPF 019.008.025-06, RG 15.005.023-2, Químico farmacêutico e seu cônjuge Sophia Ribeiro, CPF 013.023.007-16, RG 13.015.024-4, profissão Economista, residente e domiciliado em Rua Colônia Gonçalves, 616, Jardim Dos Comerciarios, cidade de São Paulo - SP, CEP: 80254805, **vende** a FRANCISCO MORAES, CPF 018.021.023-14, RG 10.030.028-8, Coveiro/Sepultador e seu cônjuge Noah Cassiano, CPF 027.020.005-09, RG 13.003.008-10, profissão Surfista, residente e domiciliado em Rua Feira da Conceição, 690, Vila Independencia 1ª Seção, cidade de São Paulo - SP, CEP: 40703-659, o imóvel situado à Rua Estrada Ana Cavalcante, 580, Laranjeiras, cidade de São Paulo - SP, CEP: 58630802, pelo valor de R$',\n",
       "   '203,364.00, pagos nesta data.\\nA aquisição foi feita com recursos próprios do(a) comprador(a), conforme declaração. Registrado sem ônus ou gravames.\\nO Oficial\\nValentim da Rosa\\nRegistro Nº 00.007/014 - São Paulo, 15 de June de 2018\\nPela escritura pública lavrada em 11 de June de 1931, no Livro 3, folhas 101, do 6, o FRANCISCO MORAES, CPF 018.021.023-14, RG 10.030.028-8, Coveiro/Sepultador e seu cônjuge Noah Cassiano, CPF 027.020.005-09, RG 13.003.008-10, profissão Surfista, residente e domiciliado em Rua Feira da Conceição, 690, Vila Independencia 1ª Seção, cidade de São Paulo - SP, CEP: 40703-659, **vende** a CLARA MORAES, CPF 001.024.023-18, RG 12.019.024-8, Prensista e seu cônjuge Dr. Renan da Rocha, CPF 028.017.027-03, RG 11.027.025-8, profissão Flanelinha, residente e domiciliado em Rua Loteamento Maria Flor Montenegro, 599, Vila Madre Gertrudes 3ª Seção, cidade de São Paulo - SP, CEP: 35202813, o imóvel situado à Rua Passarela Freitas, 705, Santa Rita, cidade de São Paulo - SP, CEP: 48007376, pelo valor de R$ 442,792.00, pagos nesta data.\\nA aquisição foi feita com recursos próprios do(a) comprador(a), conforme declaração. Registrado sem ônus ou gravames.\\nO Oficial\\nMelissa Campos\\nRegistro Nº 16.019/030 - São Paulo, 06 de January de 1991\\nPela escritura pública lavrada em 11 de June de 1931, no Livro 2, folhas 16, do 6, o CLARA MORAES, CPF 001.024.023-18, RG 12.019.024-8,',\n",
       "   'Prensista e seu cônjuge Dr. Renan da Rocha, CPF 028.017.027-03, RG 11.027.025-8, profissão Flanelinha, residente e domiciliado em Rua Loteamento Maria Flor Montenegro, 599, Vila Madre Gertrudes 3ª Seção, cidade de São Paulo - SP, CEP: 35202813, **vende** a ISABELLA LEÃO, CPF 028.004.013-03, RG 01.024.030-9, Radiooperador de vôo e seu cônjuge Juan Rodrigues, CPF 019.029.022-17, RG 15.014.012-7, profissão Cumim, residente e domiciliado em Rua Rodovia Maria Clara da Luz, 52, Novo Glória, cidade de São Paulo - SP, CEP: 45104128, o imóvel situado à Rua Passarela de Pereira, 854, Canaa, cidade de São Paulo - SP, CEP: 37103101, pelo valor de R$ 423,207.00, pagos nesta data.\\nA aquisição foi feita com recursos próprios do(a) comprador(a), conforme declaração. Registrado sem ônus ou gravames.\\nO Oficial\\nAsafe Cavalcanti\\nRegistro Nº 07.014/019 - São Paulo, 28 de October de 2000\\nPela escritura pública lavrada em 11 de June de 1931, no Livro 1, folhas 146, do 6, o ISABELLA LEÃO, CPF 028.004.013-03, RG 01.024.030-9, Radiooperador de vôo e seu cônjuge Juan Rodrigues, CPF 019.029.022-17, RG 15.014.012-7, profissão Cumim, residente e domiciliado em Rua Rodovia Maria Clara da Luz, 52, Novo Glória, cidade de São Paulo - SP, CEP: 45104128, **vende** a PIETRA DA CUNHA, CPF 023.001.024-05, RG 00.030.021-3, Cameraman, residente e domiciliado em Rua Pátio de Casa Grande, 348, Ipe, cidade de São Paulo',\n",
       "   '- SP, CEP: 33713-601, o imóvel situado à Rua Núcleo de Azevedo, 653, Indaiá, cidade de São Paulo - SP, CEP: 25373915, pelo valor de R$ 955,872.00, pagos nesta data.\\nA aquisição foi feita com recursos próprios do(a) comprador(a), conforme declaração. Registrado sem ônus ou gravames.\\nO Oficial\\nAna Lívia Rocha\\nRegistro Nº 10.002/003 - São Paulo, 19 de January de 1959\\nPela escritura pública lavrada em 11 de June de 1931, no Livro 3, folhas 38, do 6, o PIETRA DA CUNHA, CPF 023.001.024-05, RG 00.030.021-3, Cameraman, residente e domiciliado em Rua Pátio de Casa Grande, 348, Ipe, cidade de São Paulo - SP, CEP: 33713-601, **vende** a ALICE COSTELA, CPF 023.019.028-16, RG 02.007.007-5, Promotor de vendas e seu cônjuge Amanda Silva, CPF 009.009.008-04, RG 14.019.022-0, profissão Sushiman, residente e domiciliado em Rua Ladeira Clara Porto, 880, Etelvina Carneiro, cidade de São Paulo - SP, CEP: 87580-729, o imóvel situado à Rua Avenida de Camargo, 482, Ademar Maldonado, cidade de São Paulo - SP, CEP: 64601547, pelo valor de R$ 649,107.00, pagos nesta data.\\nA aquisição foi feita com recursos próprios do(a) comprador(a), conforme declaração. Registrado sem ônus ou gravames.\\nO Oficial\\nCauê Ramos\\nRegistro Nº 08.028/011 - São Paulo, 31 de December de 1939\\nPela escritura pública lavrada em 11 de June de 1931, no Livro 3, folhas 25, do 6, o ALICE COSTELA, CPF 023.019.028-16, RG 02.007.007-5,',\n",
       "   'Promotor de vendas e seu cônjuge Amanda Silva, CPF 009.009.008-04, RG 14.019.022-0, profissão Sushiman, residente e domiciliado em Rua Ladeira Clara Porto, 880, Etelvina Carneiro, cidade de São Paulo - SP, CEP: 87580-729, **vende** a MARIANA SIQUEIRA, CPF 020.012.011-10, RG 06.030.015-0, Coloproctologista, residente e domiciliado em Rua Lago Caldeira, 895, Biquinhas, cidade de São Paulo - SP, CEP: 49983847, o imóvel situado à Rua Loteamento de Farias, 253, Vila Atila De Paiva, cidade de São Paulo - SP, CEP: 09084-262, pelo valor de R$ 876,197.00, pagos nesta data.\\nA aquisição foi feita com recursos próprios do(a) comprador(a), conforme declaração. Registrado sem ônus ou gravames.\\nO Oficial\\nPedro Miguel Farias\\nRegistro Nº 13.009/021 - São Paulo, 24 de February de 1990\\nPela escritura pública lavrada em 11 de June de 1931, no Livro 4, folhas 96, do 6, o MARIANA SIQUEIRA, CPF 020.012.011-10, RG 06.030.015-0, Coloproctologista, residente e domiciliado em Rua Lago Caldeira, 895, Biquinhas, cidade de São Paulo - SP, CEP: 49983847, **vende** a RAQUEL ARAÚJO, CPF 021.022.021-01, RG 05.023.009-2, Filósofo e seu cônjuge Pietra Porto, CPF 017.011.000-14, RG 09.029.007-8, profissão Percursionista, residente e domiciliado em Rua Via Martins, 855, São Geraldo, cidade de São Paulo - SP, CEP: 11159-286, o imóvel situado à Rua Praça Pietra Melo, 927, Varzea Da Palma, cidade de São Paulo - SP,',\n",
       "   'CEP: 06530961, pelo valor de R$ 345,168.00, pagos nesta data.\\nA aquisição foi feita com recursos próprios do(a) comprador(a), conforme declaração. Registrado sem ônus ou gravames.\\nO Oficial\\nIsabel Cunha\\nRegistro Nº 12.017/022 - São Paulo, 17 de April de 1967\\nPela escritura pública lavrada em 11 de June de 1931, no Livro 5, folhas 100, do 6, o RAQUEL ARAÚJO, CPF 021.022.021-01, RG 05.023.009-2, Filósofo e seu cônjuge Pietra Porto, CPF 017.011.000-14, RG 09.029.007-8, profissão Percursionista, residente e domiciliado em Rua Via Martins, 855, São Geraldo, cidade de São Paulo - SP, CEP: 11159-286, **vende** a RODRIGO RODRIGUES, CPF 004.009.005-07, RG 08.021.021-0, Profissional de áudio e seu cônjuge Heloisa Casa Grande, CPF 001.000.015-05, RG 14.009.004-6, profissão Plastimodelista, residente e domiciliado em Rua Vale Silva, 258, Jardim Alvorada, cidade de São Paulo - SP, CEP: 33508079, o imóvel situado à Rua Viela Bruno Rios, 68, Coração De Jesus, cidade de São Paulo - SP, CEP: 55953677, pelo valor de R$ 870,364.00, pagos nesta data.\\nA aquisição foi feita com recursos próprios do(a) comprador(a), conforme declaração. Registrado sem ônus ou gravames.\\nO Oficial\\nBruno Cunha\\nRegistro Nº 20.024/006 - São Paulo, 05 de January de 1948\\nPela escritura pública lavrada em 11 de June de 1931, no Livro 5, folhas 38, do 6, o RODRIGO RODRIGUES, CPF 004.009.005-07, RG 08.021.021-0, Profissional',\n",
       "   'de áudio e seu cônjuge Heloisa Casa Grande, CPF 001.000.015-05, RG 14.009.004-6, profissão Plastimodelista, residente e domiciliado em Rua Vale Silva, 258, Jardim Alvorada, cidade de São Paulo - SP, CEP: 33508079, **vende** a SR. MATHEUS DA PAZ, CPF 021.019.006-11, RG 09.016.017-7, Perfusionista, residente e domiciliado em Rua Via Esther da Rocha, 927, Acaiaca, cidade de São Paulo - SP, CEP: 92872-113, o imóvel situado à Rua Vale Marcelo Machado, 24, Bacurau, cidade de São Paulo - SP, CEP: 40178-125, pelo valor de R$ 290,138.00, pagos nesta data.\\nA aquisição foi feita com recursos próprios do(a) comprador(a), conforme declaração. Registrado sem ônus ou gravames.\\nO Oficial\\nBrayan Albuquerque\\nRegistro Nº 03.014/022 - São Paulo, 30 de May de 1971\\nPela escritura pública lavrada em 11 de June de 1931, no Livro 1, folhas 15, do 6, o SR. MATHEUS DA PAZ, CPF 021.019.006-11, RG 09.016.017-7, Perfusionista, residente e domiciliado em Rua Via Esther da Rocha, 927, Acaiaca, cidade de São Paulo - SP, CEP: 92872-113, **vende** a FELIPE DA CUNHA, CPF 026.003.023-10, RG 18.016.010-6, Restaurador, residente e domiciliado em Rua Viaduto Cirino, 814, Renascença, cidade de São Paulo - SP, CEP: 87370-388, o imóvel situado à Rua Viaduto de da Costa, 160, Pousada Santo Antonio, cidade de São Paulo - SP, CEP: 53015992, pelo valor de R$ 432,575.00, pagos nesta data.\\nA aquisição foi feita com recursos',\n",
       "   'próprios do(a) comprador(a), conforme declaração. Registrado sem ônus ou gravames.\\nO Oficial\\nSrta. Ana Sophia Andrade\\nRegistro Nº 03.011/007 - São Paulo, 26 de January de 1958\\nPela escritura pública lavrada em 11 de June de 1931, no Livro 4, folhas 143, do 6, o FELIPE DA CUNHA, CPF 026.003.023-10, RG 18.016.010-6, Restaurador, residente e domiciliado em Rua Viaduto Cirino, 814, Renascença, cidade de São Paulo - SP, CEP: 87370-388, **vende** a BEATRIZ CAVALCANTE, CPF 029.010.028-18, RG 13.003.028-1, Obstetra e seu cônjuge Thomas Gomes, CPF 005.010.027-08, RG 18.030.009-3, profissão Técnico em desporto, residente e domiciliado em Rua Área de da Conceição, 68, Morro Dos Macacos, cidade de São Paulo - SP, CEP: 19938943, o imóvel situado à Rua Morro Maria Liz Mendes, 121, Bela Vitoria, cidade de São Paulo - SP, CEP: 49969658, pelo valor de R$ 639,069.00, pagos nesta data.\\nA aquisição foi feita com recursos próprios do(a) comprador(a), conforme declaração. Registrado sem ônus ou gravames.\\nO Oficial\\nIsabelly Moreira'],\n",
       "  'num_paginas': 9,\n",
       "  'matricula': '06.026',\n",
       "  'cartorio_num': '6',\n",
       "  'cnm': '000014.9.0000011-11'}]"
      ]
     },
     "execution_count": 10,
     "metadata": {},
     "output_type": "execute_result"
    }
   ],
   "source": [
    "queries.get_pages_by_cnm(data, m['cnm'])"
   ]
  }
 ],
 "metadata": {
  "kernelspec": {
   "display_name": "venv",
   "language": "python",
   "name": "python3"
  },
  "language_info": {
   "codemirror_mode": {
    "name": "ipython",
    "version": 3
   },
   "file_extension": ".py",
   "mimetype": "text/x-python",
   "name": "python",
   "nbconvert_exporter": "python",
   "pygments_lexer": "ipython3",
   "version": "3.12.3"
  }
 },
 "nbformat": 4,
 "nbformat_minor": 5
}
